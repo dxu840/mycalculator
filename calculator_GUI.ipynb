{
  "nbformat": 4,
  "nbformat_minor": 0,
  "metadata": {
    "colab": {
      "provenance": []
    },
    "kernelspec": {
      "name": "python3",
      "display_name": "Python 3"
    },
    "language_info": {
      "name": "python"
    },
    "widgets": {
      "application/vnd.jupyter.widget-state+json": {
        "73f48ff3aa384c9b9d4d5a1e51563b2a": {
          "model_module": "@jupyter-widgets/controls",
          "model_name": "TextModel",
          "model_module_version": "1.5.0",
          "state": {
            "_dom_classes": [],
            "_model_module": "@jupyter-widgets/controls",
            "_model_module_version": "1.5.0",
            "_model_name": "TextModel",
            "_view_count": null,
            "_view_module": "@jupyter-widgets/controls",
            "_view_module_version": "1.5.0",
            "_view_name": "TextView",
            "continuous_update": true,
            "description": "First Number:",
            "description_tooltip": null,
            "disabled": false,
            "layout": "IPY_MODEL_b7645e7c8c444cb2b9f59f7e765b90d9",
            "placeholder": "enter a number",
            "style": "IPY_MODEL_df45e60260aa4d868509921d7d8cf20d",
            "value": "2000000"
          }
        },
        "b7645e7c8c444cb2b9f59f7e765b90d9": {
          "model_module": "@jupyter-widgets/base",
          "model_name": "LayoutModel",
          "model_module_version": "1.2.0",
          "state": {
            "_model_module": "@jupyter-widgets/base",
            "_model_module_version": "1.2.0",
            "_model_name": "LayoutModel",
            "_view_count": null,
            "_view_module": "@jupyter-widgets/base",
            "_view_module_version": "1.2.0",
            "_view_name": "LayoutView",
            "align_content": null,
            "align_items": null,
            "align_self": null,
            "border": null,
            "bottom": null,
            "display": null,
            "flex": null,
            "flex_flow": null,
            "grid_area": null,
            "grid_auto_columns": null,
            "grid_auto_flow": null,
            "grid_auto_rows": null,
            "grid_column": null,
            "grid_gap": null,
            "grid_row": null,
            "grid_template_areas": null,
            "grid_template_columns": null,
            "grid_template_rows": null,
            "height": null,
            "justify_content": null,
            "justify_items": null,
            "left": null,
            "margin": null,
            "max_height": null,
            "max_width": null,
            "min_height": null,
            "min_width": null,
            "object_fit": null,
            "object_position": null,
            "order": null,
            "overflow": null,
            "overflow_x": null,
            "overflow_y": null,
            "padding": null,
            "right": null,
            "top": null,
            "visibility": null,
            "width": null
          }
        },
        "df45e60260aa4d868509921d7d8cf20d": {
          "model_module": "@jupyter-widgets/controls",
          "model_name": "DescriptionStyleModel",
          "model_module_version": "1.5.0",
          "state": {
            "_model_module": "@jupyter-widgets/controls",
            "_model_module_version": "1.5.0",
            "_model_name": "DescriptionStyleModel",
            "_view_count": null,
            "_view_module": "@jupyter-widgets/base",
            "_view_module_version": "1.2.0",
            "_view_name": "StyleView",
            "description_width": ""
          }
        },
        "9030bc73c5664754a8dc30bdf784e827": {
          "model_module": "@jupyter-widgets/controls",
          "model_name": "TextModel",
          "model_module_version": "1.5.0",
          "state": {
            "_dom_classes": [],
            "_model_module": "@jupyter-widgets/controls",
            "_model_module_version": "1.5.0",
            "_model_name": "TextModel",
            "_view_count": null,
            "_view_module": "@jupyter-widgets/controls",
            "_view_module_version": "1.5.0",
            "_view_name": "TextView",
            "continuous_update": true,
            "description": "Second Number:",
            "description_tooltip": null,
            "disabled": false,
            "layout": "IPY_MODEL_2988bbba56fd4aaeb9f806911451f9b7",
            "placeholder": "enter a number",
            "style": "IPY_MODEL_064b61082724484bb829155666ebcee5",
            "value": "3335325"
          }
        },
        "2988bbba56fd4aaeb9f806911451f9b7": {
          "model_module": "@jupyter-widgets/base",
          "model_name": "LayoutModel",
          "model_module_version": "1.2.0",
          "state": {
            "_model_module": "@jupyter-widgets/base",
            "_model_module_version": "1.2.0",
            "_model_name": "LayoutModel",
            "_view_count": null,
            "_view_module": "@jupyter-widgets/base",
            "_view_module_version": "1.2.0",
            "_view_name": "LayoutView",
            "align_content": null,
            "align_items": null,
            "align_self": null,
            "border": null,
            "bottom": null,
            "display": null,
            "flex": null,
            "flex_flow": null,
            "grid_area": null,
            "grid_auto_columns": null,
            "grid_auto_flow": null,
            "grid_auto_rows": null,
            "grid_column": null,
            "grid_gap": null,
            "grid_row": null,
            "grid_template_areas": null,
            "grid_template_columns": null,
            "grid_template_rows": null,
            "height": null,
            "justify_content": null,
            "justify_items": null,
            "left": null,
            "margin": null,
            "max_height": null,
            "max_width": null,
            "min_height": null,
            "min_width": null,
            "object_fit": null,
            "object_position": null,
            "order": null,
            "overflow": null,
            "overflow_x": null,
            "overflow_y": null,
            "padding": null,
            "right": null,
            "top": null,
            "visibility": null,
            "width": null
          }
        },
        "064b61082724484bb829155666ebcee5": {
          "model_module": "@jupyter-widgets/controls",
          "model_name": "DescriptionStyleModel",
          "model_module_version": "1.5.0",
          "state": {
            "_model_module": "@jupyter-widgets/controls",
            "_model_module_version": "1.5.0",
            "_model_name": "DescriptionStyleModel",
            "_view_count": null,
            "_view_module": "@jupyter-widgets/base",
            "_view_module_version": "1.2.0",
            "_view_name": "StyleView",
            "description_width": ""
          }
        },
        "8b22030383ff47ceb9c34dc22665717e": {
          "model_module": "@jupyter-widgets/controls",
          "model_name": "DropdownModel",
          "model_module_version": "1.5.0",
          "state": {
            "_dom_classes": [],
            "_model_module": "@jupyter-widgets/controls",
            "_model_module_version": "1.5.0",
            "_model_name": "DropdownModel",
            "_options_labels": [
              "+",
              "-",
              "x",
              "/"
            ],
            "_view_count": null,
            "_view_module": "@jupyter-widgets/controls",
            "_view_module_version": "1.5.0",
            "_view_name": "DropdownView",
            "description": "Operation:",
            "description_tooltip": null,
            "disabled": false,
            "index": 2,
            "layout": "IPY_MODEL_f8f9773daccd459a9bc662eecb525f44",
            "style": "IPY_MODEL_9c63cb83b1f44edc837bdcac5ec0abcb"
          }
        },
        "f8f9773daccd459a9bc662eecb525f44": {
          "model_module": "@jupyter-widgets/base",
          "model_name": "LayoutModel",
          "model_module_version": "1.2.0",
          "state": {
            "_model_module": "@jupyter-widgets/base",
            "_model_module_version": "1.2.0",
            "_model_name": "LayoutModel",
            "_view_count": null,
            "_view_module": "@jupyter-widgets/base",
            "_view_module_version": "1.2.0",
            "_view_name": "LayoutView",
            "align_content": null,
            "align_items": null,
            "align_self": null,
            "border": null,
            "bottom": null,
            "display": null,
            "flex": null,
            "flex_flow": null,
            "grid_area": null,
            "grid_auto_columns": null,
            "grid_auto_flow": null,
            "grid_auto_rows": null,
            "grid_column": null,
            "grid_gap": null,
            "grid_row": null,
            "grid_template_areas": null,
            "grid_template_columns": null,
            "grid_template_rows": null,
            "height": null,
            "justify_content": null,
            "justify_items": null,
            "left": null,
            "margin": null,
            "max_height": null,
            "max_width": null,
            "min_height": null,
            "min_width": null,
            "object_fit": null,
            "object_position": null,
            "order": null,
            "overflow": null,
            "overflow_x": null,
            "overflow_y": null,
            "padding": null,
            "right": null,
            "top": null,
            "visibility": null,
            "width": null
          }
        },
        "9c63cb83b1f44edc837bdcac5ec0abcb": {
          "model_module": "@jupyter-widgets/controls",
          "model_name": "DescriptionStyleModel",
          "model_module_version": "1.5.0",
          "state": {
            "_model_module": "@jupyter-widgets/controls",
            "_model_module_version": "1.5.0",
            "_model_name": "DescriptionStyleModel",
            "_view_count": null,
            "_view_module": "@jupyter-widgets/base",
            "_view_module_version": "1.2.0",
            "_view_name": "StyleView",
            "description_width": ""
          }
        },
        "fbcb52af8ad84fa0bfc63855c8b80315": {
          "model_module": "@jupyter-widgets/controls",
          "model_name": "ButtonModel",
          "model_module_version": "1.5.0",
          "state": {
            "_dom_classes": [],
            "_model_module": "@jupyter-widgets/controls",
            "_model_module_version": "1.5.0",
            "_model_name": "ButtonModel",
            "_view_count": null,
            "_view_module": "@jupyter-widgets/controls",
            "_view_module_version": "1.5.0",
            "_view_name": "ButtonView",
            "button_style": "info",
            "description": "Calculate",
            "disabled": false,
            "icon": "calculator",
            "layout": "IPY_MODEL_3984653ecb804a5dbc3c7f707d1f1a48",
            "style": "IPY_MODEL_a3bb4836c54a42e99f09d1e95d7fe122",
            "tooltip": "Click to calculate"
          }
        },
        "3984653ecb804a5dbc3c7f707d1f1a48": {
          "model_module": "@jupyter-widgets/base",
          "model_name": "LayoutModel",
          "model_module_version": "1.2.0",
          "state": {
            "_model_module": "@jupyter-widgets/base",
            "_model_module_version": "1.2.0",
            "_model_name": "LayoutModel",
            "_view_count": null,
            "_view_module": "@jupyter-widgets/base",
            "_view_module_version": "1.2.0",
            "_view_name": "LayoutView",
            "align_content": null,
            "align_items": null,
            "align_self": null,
            "border": null,
            "bottom": null,
            "display": null,
            "flex": null,
            "flex_flow": null,
            "grid_area": null,
            "grid_auto_columns": null,
            "grid_auto_flow": null,
            "grid_auto_rows": null,
            "grid_column": null,
            "grid_gap": null,
            "grid_row": null,
            "grid_template_areas": null,
            "grid_template_columns": null,
            "grid_template_rows": null,
            "height": null,
            "justify_content": null,
            "justify_items": null,
            "left": null,
            "margin": null,
            "max_height": null,
            "max_width": null,
            "min_height": null,
            "min_width": null,
            "object_fit": null,
            "object_position": null,
            "order": null,
            "overflow": null,
            "overflow_x": null,
            "overflow_y": null,
            "padding": null,
            "right": null,
            "top": null,
            "visibility": null,
            "width": null
          }
        },
        "a3bb4836c54a42e99f09d1e95d7fe122": {
          "model_module": "@jupyter-widgets/controls",
          "model_name": "ButtonStyleModel",
          "model_module_version": "1.5.0",
          "state": {
            "_model_module": "@jupyter-widgets/controls",
            "_model_module_version": "1.5.0",
            "_model_name": "ButtonStyleModel",
            "_view_count": null,
            "_view_module": "@jupyter-widgets/base",
            "_view_module_version": "1.2.0",
            "_view_name": "StyleView",
            "button_color": null,
            "font_weight": ""
          }
        },
        "f7d480e51a4846f09234b11875c99127": {
          "model_module": "@jupyter-widgets/controls",
          "model_name": "TextModel",
          "model_module_version": "1.5.0",
          "state": {
            "_dom_classes": [],
            "_model_module": "@jupyter-widgets/controls",
            "_model_module_version": "1.5.0",
            "_model_name": "TextModel",
            "_view_count": null,
            "_view_module": "@jupyter-widgets/controls",
            "_view_module_version": "1.5.0",
            "_view_name": "TextView",
            "continuous_update": true,
            "description": "Result:",
            "description_tooltip": null,
            "disabled": false,
            "layout": "IPY_MODEL_5ca87d2c04484b3b8076a8156c0752e7",
            "placeholder": "",
            "style": "IPY_MODEL_7b2eebd58e724f9ea67307786c263c3e",
            "value": "6670650000000"
          }
        },
        "5ca87d2c04484b3b8076a8156c0752e7": {
          "model_module": "@jupyter-widgets/base",
          "model_name": "LayoutModel",
          "model_module_version": "1.2.0",
          "state": {
            "_model_module": "@jupyter-widgets/base",
            "_model_module_version": "1.2.0",
            "_model_name": "LayoutModel",
            "_view_count": null,
            "_view_module": "@jupyter-widgets/base",
            "_view_module_version": "1.2.0",
            "_view_name": "LayoutView",
            "align_content": null,
            "align_items": null,
            "align_self": null,
            "border": null,
            "bottom": null,
            "display": null,
            "flex": null,
            "flex_flow": null,
            "grid_area": null,
            "grid_auto_columns": null,
            "grid_auto_flow": null,
            "grid_auto_rows": null,
            "grid_column": null,
            "grid_gap": null,
            "grid_row": null,
            "grid_template_areas": null,
            "grid_template_columns": null,
            "grid_template_rows": null,
            "height": null,
            "justify_content": null,
            "justify_items": null,
            "left": null,
            "margin": null,
            "max_height": null,
            "max_width": null,
            "min_height": null,
            "min_width": null,
            "object_fit": null,
            "object_position": null,
            "order": null,
            "overflow": null,
            "overflow_x": null,
            "overflow_y": null,
            "padding": null,
            "right": null,
            "top": null,
            "visibility": null,
            "width": null
          }
        },
        "7b2eebd58e724f9ea67307786c263c3e": {
          "model_module": "@jupyter-widgets/controls",
          "model_name": "DescriptionStyleModel",
          "model_module_version": "1.5.0",
          "state": {
            "_model_module": "@jupyter-widgets/controls",
            "_model_module_version": "1.5.0",
            "_model_name": "DescriptionStyleModel",
            "_view_count": null,
            "_view_module": "@jupyter-widgets/base",
            "_view_module_version": "1.2.0",
            "_view_name": "StyleView",
            "description_width": ""
          }
        }
      }
    }
  },
  "cells": [
    {
      "cell_type": "code",
      "execution_count": 1,
      "metadata": {
        "colab": {
          "base_uri": "https://localhost:8080/",
          "height": 173,
          "referenced_widgets": [
            "73f48ff3aa384c9b9d4d5a1e51563b2a",
            "b7645e7c8c444cb2b9f59f7e765b90d9",
            "df45e60260aa4d868509921d7d8cf20d",
            "9030bc73c5664754a8dc30bdf784e827",
            "2988bbba56fd4aaeb9f806911451f9b7",
            "064b61082724484bb829155666ebcee5",
            "8b22030383ff47ceb9c34dc22665717e",
            "f8f9773daccd459a9bc662eecb525f44",
            "9c63cb83b1f44edc837bdcac5ec0abcb",
            "fbcb52af8ad84fa0bfc63855c8b80315",
            "3984653ecb804a5dbc3c7f707d1f1a48",
            "a3bb4836c54a42e99f09d1e95d7fe122",
            "f7d480e51a4846f09234b11875c99127",
            "5ca87d2c04484b3b8076a8156c0752e7",
            "7b2eebd58e724f9ea67307786c263c3e"
          ]
        },
        "id": "SGRrV4-D7Lbv",
        "outputId": "ec31ea92-c245-4098-fbbf-96a703ea6e36"
      },
      "outputs": [
        {
          "output_type": "display_data",
          "data": {
            "text/plain": [
              "Text(value='', description='First Number:', placeholder='enter a number')"
            ],
            "application/vnd.jupyter.widget-view+json": {
              "version_major": 2,
              "version_minor": 0,
              "model_id": "73f48ff3aa384c9b9d4d5a1e51563b2a"
            }
          },
          "metadata": {}
        },
        {
          "output_type": "display_data",
          "data": {
            "text/plain": [
              "Text(value='', description='Second Number:', placeholder='enter a number')"
            ],
            "application/vnd.jupyter.widget-view+json": {
              "version_major": 2,
              "version_minor": 0,
              "model_id": "9030bc73c5664754a8dc30bdf784e827"
            }
          },
          "metadata": {}
        },
        {
          "output_type": "display_data",
          "data": {
            "text/plain": [
              "Dropdown(description='Operation:', options=('+', '-', 'x', '/'), value='+')"
            ],
            "application/vnd.jupyter.widget-view+json": {
              "version_major": 2,
              "version_minor": 0,
              "model_id": "8b22030383ff47ceb9c34dc22665717e"
            }
          },
          "metadata": {}
        },
        {
          "output_type": "display_data",
          "data": {
            "text/plain": [
              "Button(button_style='info', description='Calculate', icon='calculator', style=ButtonStyle(), tooltip='Click to…"
            ],
            "application/vnd.jupyter.widget-view+json": {
              "version_major": 2,
              "version_minor": 0,
              "model_id": "fbcb52af8ad84fa0bfc63855c8b80315"
            }
          },
          "metadata": {}
        },
        {
          "output_type": "display_data",
          "data": {
            "text/plain": [
              "Text(value='', description='Result:', placeholder='')"
            ],
            "application/vnd.jupyter.widget-view+json": {
              "version_major": 2,
              "version_minor": 0,
              "model_id": "f7d480e51a4846f09234b11875c99127"
            }
          },
          "metadata": {}
        }
      ],
      "source": [
        "import ipywidgets as widgets\n",
        "Output=widgets.Text(\n",
        "    placeholder='',\n",
        "    description='Result:',\n",
        "    disabled=False)\n",
        "btn1 = widgets.Button(\n",
        "    description='Calculate',\n",
        "    button_style='info',\n",
        "    tooltip=\"Click to calculate\",\n",
        "    icon='calculator')\n",
        "from ipywidgets import Button, Layout\n",
        "\n",
        "b = Button(description='(50% width, 80px height) button',\n",
        "           layout=Layout(width='50%', height='80px'))\n",
        "\n",
        "input_one=widgets.Text(\n",
        "    placeholder='enter a number',\n",
        "    description='First Number:',\n",
        "    disabled=False)\n",
        "\n",
        "input_two=widgets.Text(\n",
        "    placeholder='enter a number',\n",
        "    description='Second Number:',\n",
        "    disabled=False)\n",
        "\n",
        "input_op=widgets.Dropdown(\n",
        "    options=['+', '-', 'x', '/'],\n",
        "    value='+',\n",
        "    description='Operation:',\n",
        "    disabled=False,\n",
        ")\n",
        "\n",
        "btn1 = widgets.Button(\n",
        "    description='Calculate',\n",
        "    button_style='info',\n",
        "    tooltip=\"Click to calculate\",\n",
        "    icon='calculator')\n",
        "\n",
        "display(input_one, input_two, input_op, btn1,Output)\n",
        "def check(string):\n",
        "    try:\n",
        "        float(string)\n",
        "        return 1\n",
        "    except ValueError:\n",
        "        return 0\n",
        "\n",
        "def OnButtonClickCalc_func(b):\n",
        "    if check(input_one.value) and check(input_two.value):\n",
        "        if input_op.value==\"+\":\n",
        "            Output.value=str(int(input_one.value)+int(input_two.value))\n",
        "        if input_op.value==\"-\":\n",
        "            Output.value=str(int(input_one.value)-int(input_two.value))\n",
        "        if input_op.value==\"x\":\n",
        "            Output.value=str(int(input_one.value)*int(input_two.value))\n",
        "        if input_op.value==\"/\":\n",
        "            if input_two.value==\"0\":\n",
        "                Output.value = \"UNDEFINED\"\n",
        "            else:\n",
        "                Output.value = str(int(input_one.value)/int(input_two.value))\n",
        "    else:\n",
        "        Output.value=\"PLEASE ENTER TWO NUMBERS.\"\n",
        "\n",
        "\n",
        "btn1.on_click(OnButtonClickCalc_func)\n",
        "## icons come from https://fontawesome.com/v4/icons/"
      ]
    }
  ]
}