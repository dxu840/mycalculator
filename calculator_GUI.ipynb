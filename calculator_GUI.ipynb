import ipywidgets as widgets
Output=widgets.Text(
    placeholder='',
    description='Result:',
    disabled=False)
btn1 = widgets.Button(
    description='Calculate',
    button_style='info',
    tooltip="Click to calculate",
    icon='calculator')
from ipywidgets import Button, Layout

b = Button(description='(50% width, 80px height) button',
           layout=Layout(width='50%', height='80px'))

input_one=widgets.Text(
    placeholder='enter a number',
    description='First Number:',
    disabled=False)

input_two=widgets.Text(
    placeholder='enter a number',
    description='Second Number:',
    disabled=False)

input_op=widgets.Dropdown(
    options=['+', '-', 'x', '/'],
    value='+',
    description='Operation:',
    disabled=False,
)

btn1 = widgets.Button(
    description='Calculate',
    button_style='info',
    tooltip="Click to calculate",
    icon='calculator')

display(input_one, input_two, input_op, btn1,Output)
def check(string):
    try:
        float(string)
        return 1
    except ValueError:
        return 0
    
def OnButtonClickCalc_func(b):
    if check(input_one.value) and check(input_two.value):
        if input_op.value=="+":
            Output.value=str(int(input_one.value)+int(input_two.value))
        if input_op.value=="-":
            Output.value=str(int(input_one.value)-int(input_two.value))
        if input_op.value=="x":
            Output.value=str(int(input_one.value)*int(input_two.value))
        if input_op.value=="/":
            if input_two.value=="0":
                Output.value = "UNDEFINED"
            else:
                Output.value = str(int(input_one.value)/int(input_two.value))
    else:
        Output.value="PLEASE ENTER TWO NUMBERS."

    
btn1.on_click(OnButtonClickCalc_func)
## icons come from https://fontawesome.com/v4/icons/
